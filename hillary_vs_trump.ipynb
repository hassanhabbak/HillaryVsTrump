{
 "cells": [
  {
   "cell_type": "markdown",
   "metadata": {},
   "source": [
    "# Hillary vs Clinton Tweets Dataset Analysis\n",
    "## Sentimental, Topical and Correlation analysis\n",
    "\n",
    "In this project, we will explore tweets done between 12/6/2016 and 12/9/2016 in an effort to understand \"What happened?!\". We will go over sentimental analysis of the tweets, the kind of topics discussed and the correlation analysis with result of the election.\n",
    "\n",
    "## The questions we are exploring:\n",
    "\n",
    "- What is the sentiment towards the candidates?\n",
    "- Where are the candidates more popular?\n",
    "- Which topics are the candidates and their supporters talking about?\n",
    "- How big is the divide between the supporters?\n",
    "\n",
    "## Things to consider\n",
    "nr tweets over time, singleton/retweet ratio, distribution of number of tweets per user,\n",
    "interaction networks, sentiment, word/hashtag frequencies, co-occurrence networks, pca, lda"
   ]
  },
  {
   "cell_type": "code",
   "execution_count": 1,
   "metadata": {
    "collapsed": true
   },
   "outputs": [],
   "source": [
    "import pandas as pd\n",
    "import numpy as np\n",
    "import seaborn as sns\n",
    "sns.set()\n",
    "%matplotlib inline\n",
    "import matplotlib.pyplot as plt\n",
    "import scipy.stats as scs\n",
    "import ijson\n",
    "import json\n",
    "import random\n",
    "from tqdm import tqdm_notebook as tqdm"
   ]
  },
  {
   "cell_type": "markdown",
   "metadata": {},
   "source": [
    "## We load the data from our dataset\n",
    "\n",
    "This dataset seems quite large and its not setup as an actual Json object. We will read the json objects line by line and then only select the information we are interested in.\n",
    "\n",
    "We will also mark mentions of either hillary, trump or both on the tweet for easier analysis."
   ]
  },
  {
   "cell_type": "code",
   "execution_count": null,
   "metadata": {},
   "outputs": [
    {
     "data": {
      "application/vnd.jupyter.widget-view+json": {
       "model_id": "29211fd679ef4ce78d9e1f47174f242c"
      }
     },
     "metadata": {},
     "output_type": "display_data"
    }
   ],
   "source": [
    "from dateutil import parser\n",
    "\n",
    "filename = \"geotagged_tweets_20160812-0912.json\"\n",
    "with open(filename) as f:\n",
    "    \n",
    "    texts = np.empty([])\n",
    "    created_at = np.empty([])\n",
    "    source = np.empty([])\n",
    "    likes = np.empty([])\n",
    "    retweet_count = np.empty([])\n",
    "    country = np.empty([])\n",
    "    place_name = np.empty([])\n",
    "    place_type = np.empty([])\n",
    "    candidate = np.empty([])\n",
    "    \n",
    "    #f = FloatProgress(min=0, max=100)\n",
    "    #display(f)\n",
    "    i = 0\n",
    "    for line in tqdm(f):\n",
    "        #if i > 10000:\n",
    "        #    break\n",
    "        i = random.randint(1,20)\n",
    "        if i > 2:\n",
    "            continue\n",
    "        json_obj = json.loads(line)\n",
    "        texts = np.append(texts, json_obj[\"text\"])\n",
    "        created_at = np.append(created_at, parser.parse(json_obj[\"created_at\"]).date())\n",
    "        source = np.append(source, json_obj[\"source\"])\n",
    "        likes = np.append(likes, json_obj[\"favorite_count\"])\n",
    "        retweet_count = np.append(retweet_count, json_obj[\"retweet_count\"])\n",
    "        country = np.append(country, \n",
    "                            (json_obj[\"place\"][\"country\"] if \"place\" in json_obj else \"None\"))\n",
    "        place_name = np.append(place_name, \n",
    "                               json_obj[\"place\"][\"name\"] if json_obj[\"place\"][\"name\"] != None else \"None\")\n",
    "        place_type = np.append(place_type, \n",
    "                               json_obj[\"place\"][\"place_type\"] if json_obj[\"place\"][\"place_type\"] != None else \"None\")\n",
    "        mentions = \"niether\"\n",
    "        for mention in json_obj[\"entities\"][\"user_mentions\"]:\n",
    "            if mention['screen_name'] == 'realDonaldTrump':\n",
    "                if mentions != \"niether\":\n",
    "                    mentions = \"trump\"\n",
    "                else:\n",
    "                    mentions = \"both\"\n",
    "            elif mention['screen_name'] == \"HillaryClinton\":\n",
    "                if mentions != \"niether\":\n",
    "                    mentions = \"hillary\"\n",
    "                else:\n",
    "                    mentions = \"both\"\n",
    "        candidate = np.append(candidate, mentions)\n",
    "        i += 1\n",
    "        #f.value += 1\n",
    "\n",
    "    tweets_df = pd.DataFrame(texts, columns=['text'])\n",
    "    tweets_df['created_at'] = created_at\n",
    "    tweets_df['source'] = source\n",
    "    tweets_df['likes'] = likes\n",
    "    tweets_df['retweet_count'] = retweet_count\n",
    "    tweets_df['country'] = country\n",
    "    tweets_df['place_name'] = place_name\n",
    "    tweets_df['place_type'] = place_type\n",
    "    tweets_df['candidate'] = candidate\n",
    "    tweets_df = tweets_df.iloc[1:]"
   ]
  },
  {
   "cell_type": "markdown",
   "metadata": {},
   "source": [
    "# Here we plot the likes and retweets over time\n",
    "\n",
    "This is to see how popular certain tweets became about the candidated. This is a better indication than number of retweets to filter out noise from unrelated tweets."
   ]
  },
  {
   "cell_type": "code",
   "execution_count": 12,
   "metadata": {},
   "outputs": [
    {
     "name": "stderr",
     "output_type": "stream",
     "text": [
      "/Users/hassanhabbak/miniconda3/envs/data_analysis/lib/python3.6/site-packages/matplotlib/axes/_base.py:2917: UserWarning: Attempting to set identical left==right results\n",
      "in singular transformations; automatically expanding.\n",
      "left=736188.0, right=736188.0\n",
      "  'left=%s, right=%s') % (left, right))\n"
     ]
    },
    {
     "data": {
      "image/png": "[encoded data removed]",
      "text/plain": [
       "<matplotlib.figure.Figure at 0x11d705940>"
      ]
     },
     "metadata": {},
     "output_type": "display_data"
    }
   ],
   "source": [
    "fav = pd.Series(data=tweets_df['likes'].values, index=tweets_df['created_at'])\n",
    "ret = pd.Series(data=tweets_df['retweet_count'].values, index=tweets_df['created_at'])\n",
    "\n",
    "fav.plot(figsize=(16,4), label=\"Likes\", legend=True)\n",
    "ret.plot(figsize=(16,4), label=\"Retweets\", legend=True);"
   ]
  },
  {
   "cell_type": "markdown",
   "metadata": {},
   "source": [
    "# Sentiment Analysis\n",
    "\n",
    "Here we will begin sentiment analysis on the tweets. We will do this using textblob which is a NL libraby for python. First we need to clean the text before producing the sentiment score.\n",
    "\n",
    "We will attempt to answer the question:\n",
    "- What is the sentiment towards the candidates?"
   ]
  },
  {
   "cell_type": "code",
   "execution_count": 14,
   "metadata": {
    "collapsed": true
   },
   "outputs": [],
   "source": [
    "from textblob import TextBlob\n",
    "import re\n",
    "\n",
    "def clean_tweet(tweet):\n",
    "    # Removes links and special characters\n",
    "    return ' '.join(re.sub(\"(@[A-Za-z0-9]+)|([^0-9A-Za-z \\t])|(\\w+:\\/\\/\\S+)\", \" \", tweet).split())\n",
    "\n",
    "def analize_sentiment(tweet):\n",
    "    # Function to analyze sentiment\n",
    "    analysis = TextBlob(clean_tweet(tweet))\n",
    "    if analysis.sentiment.polarity > 0:\n",
    "        return \"positive\"\n",
    "    elif analysis.sentiment.polarity == 0:\n",
    "        return \"neutral\"\n",
    "    else:\n",
    "        return \"negative\"\n",
    "    \n",
    "# We create a column with the result of the analysis:\n",
    "tweets_df['sentiment'] = np.array([ analize_sentiment(tweet) for tweet in tweets_df.loc[:, \"text\"] ])"
   ]
  },
  {
   "cell_type": "markdown",
   "metadata": {},
   "source": [
    "Now that we have created the sentiments column, we get the count of the tweets by sentiment of the data we have."
   ]
  },
  {
   "cell_type": "code",
   "execution_count": 15,
   "metadata": {},
   "outputs": [
    {
     "data": {
      "image/png": "[encoded data removed]",
      "text/plain": [
       "<matplotlib.figure.Figure at 0x11d62af60>"
      ]
     },
     "metadata": {},
     "output_type": "display_data"
    }
   ],
   "source": [
    "tweets_sentiment = (tweets_df.groupby(['sentiment'])).count().unstack('text')['text']\n",
    "tweets_sentiment.plot.barh(figsize=(16,4), title = 'Sentiment of tweets', stacked=True)\n",
    "plt.xlabel('Sentiment')\n",
    "plt.ylabel('Number of tweets')\n",
    "plt.show()"
   ]
  },
  {
   "cell_type": "markdown",
   "metadata": {},
   "source": [
    "### Tweets Sentiment by candidate\n",
    "\n",
    "Here we plot the sentiment by candidate mention."
   ]
  },
  {
   "cell_type": "code",
   "execution_count": 18,
   "metadata": {},
   "outputs": [
    {
     "data": {
      "image/png": "[encoded data removed]",
      "text/plain": [
       "<matplotlib.figure.Figure at 0x11d7d1d30>"
      ]
     },
     "metadata": {},
     "output_type": "display_data"
    }
   ],
   "source": [
    "tweets_sentiment = (tweets_df.groupby(['sentiment'])).count().unstack('candidate')['text']\n",
    "class_ct = pd.crosstab(tweets_df.sentiment, tweets_df.candidate, margins=True)\n",
    "class_ct = class_ct.drop('All', 1)\n",
    "class_ct[:3].plot(title = 'Sentiment of tweets', kind='bar', stacked=True)\n",
    "plt.xlabel('Sentiment')\n",
    "plt.ylabel('Number of tweets')\n",
    "plt.show()"
   ]
  },
  {
   "cell_type": "markdown",
   "metadata": {},
   "source": [
    "From the above graph, it is hard to drive any knowledge regarding the candidates since tweets mentioning both are overwhelming in number. However, it seems that neutral tweets are much more than positive or negative tweets. \n",
    "\n",
    "For the next step we exclude tweets that mention both or neither."
   ]
  },
  {
   "cell_type": "code",
   "execution_count": 19,
   "metadata": {},
   "outputs": [
    {
     "data": {
      "image/png": "[encoded data removed]",
      "text/plain": [
       "<matplotlib.figure.Figure at 0x11d73b908>"
      ]
     },
     "metadata": {},
     "output_type": "display_data"
    }
   ],
   "source": [
    "class_ct = class_ct.drop('both', 1)\n",
    "class_ct = class_ct.drop('niether', 1)\n",
    "class_ct[:3].plot(title = 'Sentiment of tweets', kind='bar', stacked=True)\n",
    "plt.xlabel('Sentiment')\n",
    "plt.ylabel('Number of tweets')\n",
    "plt.show()"
   ]
  },
  {
   "cell_type": "markdown",
   "metadata": {},
   "source": [
    "In a surprising turn of events. It seems that Trump has more positive tweets than negative, while Hillary is getting more negative tweets than positive."
   ]
  },
  {
   "cell_type": "code",
   "execution_count": null,
   "metadata": {
    "collapsed": true
   },
   "outputs": [],
   "source": [
    "plt.plot(tweets_df['created_at'], tweets_df['text'])"
   ]
  },
  {
   "cell_type": "code",
   "execution_count": 20,
   "metadata": {},
   "outputs": [
    {
     "data": {
      "text/html": [
       "<div>\n",
       "<style>\n",
       "    .dataframe thead tr:only-child th {\n",
       "        text-align: right;\n",
       "    }\n",
       "\n",
       "    .dataframe thead th {\n",
       "        text-align: left;\n",
       "    }\n",
       "\n",
       "    .dataframe tbody tr th {\n",
       "        vertical-align: top;\n",
       "    }\n",
       "</style>\n",
       "<table border=\"1\" class=\"dataframe\">\n",
       "  <thead>\n",
       "    <tr style=\"text-align: right;\">\n",
       "      <th>candidate</th>\n",
       "      <th>hillary</th>\n",
       "      <th>trump</th>\n",
       "    </tr>\n",
       "    <tr>\n",
       "      <th>sentiment</th>\n",
       "      <th></th>\n",
       "      <th></th>\n",
       "    </tr>\n",
       "  </thead>\n",
       "  <tbody>\n",
       "    <tr>\n",
       "      <th>negative</th>\n",
       "      <td>6</td>\n",
       "      <td>2</td>\n",
       "    </tr>\n",
       "    <tr>\n",
       "      <th>neutral</th>\n",
       "      <td>9</td>\n",
       "      <td>11</td>\n",
       "    </tr>\n",
       "    <tr>\n",
       "      <th>positive</th>\n",
       "      <td>4</td>\n",
       "      <td>5</td>\n",
       "    </tr>\n",
       "  </tbody>\n",
       "</table>\n",
       "</div>"
      ],
      "text/plain": [
       "candidate  hillary  trump\n",
       "sentiment                \n",
       "negative         6      2\n",
       "neutral          9     11\n",
       "positive         4      5"
      ]
     },
     "execution_count": 20,
     "metadata": {},
     "output_type": "execute_result"
    }
   ],
   "source": [
    "class_ct[:3]"
   ]
  },
  {
   "cell_type": "code",
   "execution_count": null,
   "metadata": {
    "collapsed": true
   },
   "outputs": [],
   "source": []
  }
 ],
 "metadata": {
  "kernelspec": {
   "display_name": "Python [conda env:data_analysis]",
   "language": "python",
   "name": "conda-env-data_analysis-py"
  },
  "language_info": {
   "codemirror_mode": {
    "name": "ipython",
    "version": 3
   },
   "file_extension": ".py",
   "mimetype": "text/x-python",
   "name": "python",
   "nbconvert_exporter": "python",
   "pygments_lexer": "ipython3",
   "version": "3.6.2"
  }
 },
 "nbformat": 4,
 "nbformat_minor": 2
}
